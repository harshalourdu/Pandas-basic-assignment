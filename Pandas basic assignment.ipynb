{
 "cells": [
  {
   "cell_type": "markdown",
   "metadata": {},
   "source": [
    "Q1. Create a Pandas Series that contains the following data: 4, 8, 15, 16, 23, and 42. Then, print the series.\n",
    "\n",
    "Q2. Create a variable of list type containing 10 elements in it, and apply pandas.Series function on the\n",
    "variable print it.\n",
    "\n",
    "Q3. Create a Pandas DataFrame that contains the following data: Then, print the DataFrame.\n",
    "\n",
    "Q4. What is ‘DataFrame’ in pandas and how is it different from pandas.series? Explain with an example.\n",
    "\n",
    "Q5. What are some common functions you can use to manipulate data in a Pandas DataFrame? Can you give an example of when you might use one of these functions?\n",
    "\n",
    "Q6. Which of the following is mutable in nature Series, DataFrame, Panel?\n",
    "\n",
    "Q7. Create a DataFrame using multiple Series. Explain with an example."
   ]
  },
  {
   "cell_type": "markdown",
   "metadata": {},
   "source": []
  },
  {
   "cell_type": "code",
   "execution_count": 1,
   "metadata": {},
   "outputs": [
    {
     "name": "stdout",
     "output_type": "stream",
     "text": [
      "0     4\n",
      "1     8\n",
      "2    15\n",
      "3    16\n",
      "4    23\n",
      "5    42\n",
      "dtype: int64\n"
     ]
    }
   ],
   "source": [
    "# 1.\n",
    "\n",
    "import pandas as pd\n",
    "\n",
    "# Creating a Pandas Series\n",
    "data = [4, 8, 15, 16, 23, 42]\n",
    "series = pd.Series(data)\n",
    "\n",
    "# Printing the Series\n",
    "print(series)\n"
   ]
  },
  {
   "cell_type": "code",
   "execution_count": 2,
   "metadata": {},
   "outputs": [
    {
     "name": "stdout",
     "output_type": "stream",
     "text": [
      "0     5\n",
      "1    12\n",
      "2     7\n",
      "3     9\n",
      "4     1\n",
      "5     3\n",
      "6    16\n",
      "7    10\n",
      "8    14\n",
      "9     6\n",
      "dtype: int64\n"
     ]
    }
   ],
   "source": [
    "# 2.\n",
    "\n",
    "# Creating a list with 10 elements\n",
    "data_list = [5, 12, 7, 9, 1, 3, 16, 10, 14, 6]\n",
    "\n",
    "# Creating a Pandas Series from the list\n",
    "series_from_list = pd.Series(data_list)\n",
    "\n",
    "# Printing the Series\n",
    "print(series_from_list)\n"
   ]
  },
  {
   "cell_type": "code",
   "execution_count": 3,
   "metadata": {},
   "outputs": [
    {
     "name": "stdout",
     "output_type": "stream",
     "text": [
      "    Name  Age Gender\n",
      "0   John   28      M\n",
      "1  Alice   24      F\n",
      "2    Bob   22      M\n",
      "3  Diana   26      F\n"
     ]
    }
   ],
   "source": [
    "# 3.\n",
    "\n",
    "# Creating a DataFrame\n",
    "data = {\n",
    "    'Name': ['John', 'Alice', 'Bob', 'Diana'],\n",
    "    'Age': [28, 24, 22, 26],\n",
    "    'Gender': ['M', 'F', 'M', 'F']\n",
    "}\n",
    "\n",
    "df = pd.DataFrame(data)\n",
    "\n",
    "# Printing the DataFrame\n",
    "print(df)\n",
    "\n"
   ]
  },
  {
   "cell_type": "markdown",
   "metadata": {},
   "source": [
    "# 4.\n",
    "\n",
    "Q4: What is ‘DataFrame’ in pandas and how is it different from pandas.Series? Explain with an example.\n",
    "DataFrame: A DataFrame is a 2-dimensional labeled data structure in pandas. It can be thought of as an in-memory database table, where data is organized into rows and columns. It can hold data of different types (integer, float, string, etc.) in each column.\n",
    "\n",
    "Series: A Series is a 1-dimensional labeled array in pandas. It can hold data of any type (integer, float, string, etc.), and it has an index that labels each element.\n",
    "\n",
    "Difference:\n",
    "\n",
    "A Series is like a single column in a DataFrame.\n",
    "A DataFrame is like a table with rows and columns (multiple Series)."
   ]
  },
  {
   "cell_type": "code",
   "execution_count": 4,
   "metadata": {},
   "outputs": [
    {
     "name": "stdout",
     "output_type": "stream",
     "text": [
      "Series Example:\n",
      "A    10\n",
      "B    20\n",
      "C    30\n",
      "D    40\n",
      "dtype: int64\n",
      "\n",
      "DataFrame Example:\n",
      "   Column1  Column2\n",
      "0        1        5\n",
      "1        2        6\n",
      "2        3        7\n",
      "3        4        8\n"
     ]
    }
   ],
   "source": [
    "# Creating a Series\n",
    "series_example = pd.Series([10, 20, 30, 40], index=['A', 'B', 'C', 'D'])\n",
    "\n",
    "# Creating a DataFrame\n",
    "data = {'Column1': [1, 2, 3, 4], 'Column2': [5, 6, 7, 8]}\n",
    "df_example = pd.DataFrame(data)\n",
    "\n",
    "print(\"Series Example:\")\n",
    "print(series_example)\n",
    "print(\"\\nDataFrame Example:\")\n",
    "print(df_example)\n"
   ]
  },
  {
   "cell_type": "markdown",
   "metadata": {},
   "source": [
    "# 5.\n",
    "\n",
    "Some common functions for manipulating data in a DataFrame include:\n",
    "\n",
    "1. head(): Returns the first N rows.\n",
    "2. tail(): Returns the last N rows.\n",
    "3. drop(): Drops specified labels from rows or columns.\n",
    "4. groupby(): Groups data using a mapper or by a Series of columns.\n",
    "5. sort_values(): Sorts the DataFrame by the specified column(s)."
   ]
  },
  {
   "cell_type": "code",
   "execution_count": 5,
   "metadata": {},
   "outputs": [
    {
     "name": "stdout",
     "output_type": "stream",
     "text": [
      "Sorted DataFrame by Age:\n",
      "    Name  Age  Salary\n",
      "2    Bob   22   48000\n",
      "1  Alice   24   55000\n",
      "3  Diana   26   60000\n",
      "0   John   28   50000\n"
     ]
    }
   ],
   "source": [
    "# Creating a DataFrame\n",
    "data = {\n",
    "    'Name': ['John', 'Alice', 'Bob', 'Diana'],\n",
    "    'Age': [28, 24, 22, 26],\n",
    "    'Salary': [50000, 55000, 48000, 60000]\n",
    "}\n",
    "df = pd.DataFrame(data)\n",
    "\n",
    "# Sorting the DataFrame by Age\n",
    "sorted_df = df.sort_values(by='Age')\n",
    "\n",
    "print(\"Sorted DataFrame by Age:\")\n",
    "print(sorted_df)\n"
   ]
  },
  {
   "cell_type": "markdown",
   "metadata": {},
   "source": [
    "# 6.\n",
    "\n",
    "Mutable means that the object can be changed after creation.\n",
    "Answer:\n",
    "\n",
    "Series and DataFrame are mutable.\n",
    "Panel (which has been deprecated in recent versions of pandas) was also mutable, but it is no longer commonly used in current pandas versions."
   ]
  },
  {
   "cell_type": "code",
   "execution_count": 6,
   "metadata": {},
   "outputs": [
    {
     "name": "stdout",
     "output_type": "stream",
     "text": [
      "   A  B  C\n",
      "0  1  4  7\n",
      "1  2  5  8\n",
      "2  3  6  9\n"
     ]
    }
   ],
   "source": [
    "# 7. \n",
    "\n",
    "# Creating multiple Series\n",
    "series1 = pd.Series([1, 2, 3], name=\"A\")\n",
    "series2 = pd.Series([4, 5, 6], name=\"B\")\n",
    "series3 = pd.Series([7, 8, 9], name=\"C\")\n",
    "\n",
    "# Creating a DataFrame from Series\n",
    "df_from_series = pd.DataFrame({'A': series1, 'B': series2, 'C': series3})\n",
    "\n",
    "# Printing the DataFrame\n",
    "print(df_from_series)\n"
   ]
  },
  {
   "cell_type": "code",
   "execution_count": null,
   "metadata": {},
   "outputs": [],
   "source": []
  }
 ],
 "metadata": {
  "kernelspec": {
   "display_name": "Python 3",
   "language": "python",
   "name": "python3"
  },
  "language_info": {
   "codemirror_mode": {
    "name": "ipython",
    "version": 3
   },
   "file_extension": ".py",
   "mimetype": "text/x-python",
   "name": "python",
   "nbconvert_exporter": "python",
   "pygments_lexer": "ipython3",
   "version": "3.11.9"
  }
 },
 "nbformat": 4,
 "nbformat_minor": 2
}
